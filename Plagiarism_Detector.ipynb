{
  "cells": [
    {
      "cell_type": "markdown",
      "metadata": {
        "id": "view-in-github",
        "colab_type": "text"
      },
      "source": [
        "<a href=\"https://colab.research.google.com/github/Theanh130124/SIC_Plagiarism_Detector/blob/random_forest/Plagiarism_Detector.ipynb\" target=\"_parent\"><img src=\"https://colab.research.google.com/assets/colab-badge.svg\" alt=\"Open In Colab\"/></a>"
      ]
    },
    {
      "cell_type": "markdown",
      "metadata": {
        "id": "PLG0RnTD1laK"
      },
      "source": [
        "#Import Library"
      ]
    },
    {
      "cell_type": "code",
      "execution_count": 1,
      "metadata": {
        "colab": {
          "base_uri": "https://localhost:8080/"
        },
        "id": "aUlk9iCj65WR",
        "outputId": "ba324f64-9626-4d20-b1f6-2bde692d5969"
      },
      "outputs": [
        {
          "output_type": "stream",
          "name": "stdout",
          "text": [
            "Collecting contractions\n",
            "  Downloading contractions-0.1.73-py2.py3-none-any.whl.metadata (1.2 kB)\n",
            "Collecting textsearch>=0.0.21 (from contractions)\n",
            "  Downloading textsearch-0.0.24-py2.py3-none-any.whl.metadata (1.2 kB)\n",
            "Collecting anyascii (from textsearch>=0.0.21->contractions)\n",
            "  Downloading anyascii-0.3.3-py3-none-any.whl.metadata (1.6 kB)\n",
            "Collecting pyahocorasick (from textsearch>=0.0.21->contractions)\n",
            "  Downloading pyahocorasick-2.2.0-cp311-cp311-manylinux_2_17_x86_64.manylinux2014_x86_64.whl.metadata (13 kB)\n",
            "Downloading contractions-0.1.73-py2.py3-none-any.whl (8.7 kB)\n",
            "Downloading textsearch-0.0.24-py2.py3-none-any.whl (7.6 kB)\n",
            "Downloading anyascii-0.3.3-py3-none-any.whl (345 kB)\n",
            "\u001b[2K   \u001b[90m━━━━━━━━━━━━━━━━━━━━━━━━━━━━━━━━━━━━━━━━\u001b[0m \u001b[32m345.1/345.1 kB\u001b[0m \u001b[31m12.1 MB/s\u001b[0m eta \u001b[36m0:00:00\u001b[0m\n",
            "\u001b[?25hDownloading pyahocorasick-2.2.0-cp311-cp311-manylinux_2_17_x86_64.manylinux2014_x86_64.whl (113 kB)\n",
            "\u001b[2K   \u001b[90m━━━━━━━━━━━━━━━━━━━━━━━━━━━━━━━━━━━━━━━━\u001b[0m \u001b[32m113.9/113.9 kB\u001b[0m \u001b[31m8.8 MB/s\u001b[0m eta \u001b[36m0:00:00\u001b[0m\n",
            "\u001b[?25hInstalling collected packages: pyahocorasick, anyascii, textsearch, contractions\n",
            "Successfully installed anyascii-0.3.3 contractions-0.1.73 pyahocorasick-2.2.0 textsearch-0.0.24\n"
          ]
        }
      ],
      "source": [
        "!pip install contractions"
      ]
    },
    {
      "cell_type": "code",
      "execution_count": 2,
      "metadata": {
        "id": "5JkGeJJy5lzS"
      },
      "outputs": [],
      "source": [
        "import re\n",
        "import pandas as pd\n",
        "import numpy as np\n",
        "import nltk\n",
        "import spacy\n",
        "import csv\n",
        "import os\n",
        "import matplotlib.pyplot as plt\n",
        "import seaborn as sns\n",
        "import contractions # can't -> cannot\n",
        "import kagglehub\n",
        "from wordcloud import WordCloud\n",
        "from tqdm.notebook import tqdm\n",
        "from nltk.corpus import stopwords"
      ]
    },
    {
      "cell_type": "markdown",
      "metadata": {
        "id": "r8D0PJ3iCIsS"
      },
      "source": [
        "#Load Dataset"
      ]
    },
    {
      "cell_type": "code",
      "execution_count": 3,
      "metadata": {
        "colab": {
          "base_uri": "https://localhost:8080/"
        },
        "id": "ubEcnyyoCKnS",
        "outputId": "b20e2af3-c1a2-41e1-e734-fcf07e8f5b81"
      },
      "outputs": [
        {
          "output_type": "stream",
          "name": "stdout",
          "text": [
            "Downloading from https://www.kaggle.com/api/v1/datasets/download/ruvelpereira/mit-plagairism-detection-dataset?dataset_version_number=1...\n"
          ]
        },
        {
          "output_type": "stream",
          "name": "stderr",
          "text": [
            "100%|██████████| 7.57M/7.57M [00:00<00:00, 127MB/s]"
          ]
        },
        {
          "output_type": "stream",
          "name": "stdout",
          "text": [
            "Extracting files...\n"
          ]
        },
        {
          "output_type": "stream",
          "name": "stderr",
          "text": [
            "\n"
          ]
        },
        {
          "output_type": "stream",
          "name": "stdout",
          "text": [
            "Path to dataset files: /root/.cache/kagglehub/datasets/ruvelpereira/mit-plagairism-detection-dataset/versions/1\n"
          ]
        }
      ],
      "source": [
        "path = kagglehub.dataset_download(\"ruvelpereira/mit-plagairism-detection-dataset\")\n",
        "\n",
        "print(\"Path to dataset files:\", path)"
      ]
    },
    {
      "cell_type": "code",
      "execution_count": 4,
      "metadata": {
        "colab": {
          "base_uri": "https://localhost:8080/",
          "height": 66,
          "referenced_widgets": [
            "95508e1a879f4f9d8f2f2ca3a8b4366f",
            "082715fae0fd4c76b6953120bb29ce27",
            "4e65f0e196a94ca6bbe78c7f875d9bd1",
            "e0dfd93e0213435c9294b17b7035b263",
            "116320fac33f480c8bc1d57e59185484",
            "bcbd84eb7ae94ba2ba0f9e054738ba2d",
            "788dabfcb7034f54b1a9bacb724d77e6",
            "5f0707f329d04a0da90124fcb0bb24ab",
            "f1a3af873b344615a436c190214f3d81",
            "ebe65da7f1af4f4f988d2b8ac3e6daf4",
            "a65c09b870714a7fbe7c2d10aaca1ec4"
          ]
        },
        "id": "RLp_bX6FOv3y",
        "outputId": "3dd62a81-fdfa-4adb-e497-9ec9470fbb29"
      },
      "outputs": [
        {
          "output_type": "display_data",
          "data": {
            "text/plain": [
              "  0%|          | 0/367373 [00:00<?, ?it/s]"
            ],
            "application/vnd.jupyter.widget-view+json": {
              "version_major": 2,
              "version_minor": 0,
              "model_id": "95508e1a879f4f9d8f2f2ca3a8b4366f"
            }
          },
          "metadata": {}
        },
        {
          "output_type": "stream",
          "name": "stdout",
          "text": [
            "CSV file created successfully...\n"
          ]
        }
      ],
      "source": [
        "file_path = os.path.join(path, \"train_snli.txt\")\n",
        "with open(file_path, encoding='utf-8') as file:\n",
        "    data = file.readlines()\n",
        "\n",
        "\n",
        "with open('data.csv', 'w', newline= '') as csvfile:\n",
        "  filenames = ['source_txt', 'plagiarism_txt', 'label']\n",
        "  writer = csv.DictWriter(csvfile, fieldnames=filenames)\n",
        "  writer.writeheader()\n",
        "  for line in tqdm(data):\n",
        "    parts = line.strip().split('\\t')\n",
        "    source_txt = parts[0]\n",
        "    plagiarism_txt = parts[1]\n",
        "    label = parts[2]\n",
        "    writer.writerow({'source_txt': source_txt, 'plagiarism_txt': plagiarism_txt, 'label': label})\n",
        "print('CSV file created successfully...')\n"
      ]
    },
    {
      "cell_type": "markdown",
      "metadata": {
        "id": "y7siSk0RUR75"
      },
      "source": [
        "#Check Sample"
      ]
    },
    {
      "cell_type": "code",
      "execution_count": 5,
      "metadata": {
        "colab": {
          "base_uri": "https://localhost:8080/",
          "height": 206
        },
        "id": "ElSXO6hpUVR5",
        "outputId": "a5ac61b5-6c71-4a82-bca1-a494bdc00a0e"
      },
      "outputs": [
        {
          "output_type": "execute_result",
          "data": {
            "text/plain": [
              "                                               source_txt  \\\n",
              "205033  People are watching a street performer doing t...   \n",
              "183947           A man stands on a sailboat in the water.   \n",
              "93887                         Athletes running in a race.   \n",
              "234611  There are two men on a ladder one is at the to...   \n",
              "430                     A group of people are doing yoga.   \n",
              "\n",
              "                                           plagiarism_txt  label  \n",
              "205033  Dogs are watching a street performer doing tri...      0  \n",
              "183947                     A man is typing on a computer.      0  \n",
              "93887                                     Humans running.      1  \n",
              "234611                        Two women work on a ladder.      0  \n",
              "430                             The people are doing yoga      1  "
            ],
            "text/html": [
              "\n",
              "  <div id=\"df-203f5db6-061b-490a-b05d-30d80c3816c5\" class=\"colab-df-container\">\n",
              "    <div>\n",
              "<style scoped>\n",
              "    .dataframe tbody tr th:only-of-type {\n",
              "        vertical-align: middle;\n",
              "    }\n",
              "\n",
              "    .dataframe tbody tr th {\n",
              "        vertical-align: top;\n",
              "    }\n",
              "\n",
              "    .dataframe thead th {\n",
              "        text-align: right;\n",
              "    }\n",
              "</style>\n",
              "<table border=\"1\" class=\"dataframe\">\n",
              "  <thead>\n",
              "    <tr style=\"text-align: right;\">\n",
              "      <th></th>\n",
              "      <th>source_txt</th>\n",
              "      <th>plagiarism_txt</th>\n",
              "      <th>label</th>\n",
              "    </tr>\n",
              "  </thead>\n",
              "  <tbody>\n",
              "    <tr>\n",
              "      <th>205033</th>\n",
              "      <td>People are watching a street performer doing t...</td>\n",
              "      <td>Dogs are watching a street performer doing tri...</td>\n",
              "      <td>0</td>\n",
              "    </tr>\n",
              "    <tr>\n",
              "      <th>183947</th>\n",
              "      <td>A man stands on a sailboat in the water.</td>\n",
              "      <td>A man is typing on a computer.</td>\n",
              "      <td>0</td>\n",
              "    </tr>\n",
              "    <tr>\n",
              "      <th>93887</th>\n",
              "      <td>Athletes running in a race.</td>\n",
              "      <td>Humans running.</td>\n",
              "      <td>1</td>\n",
              "    </tr>\n",
              "    <tr>\n",
              "      <th>234611</th>\n",
              "      <td>There are two men on a ladder one is at the to...</td>\n",
              "      <td>Two women work on a ladder.</td>\n",
              "      <td>0</td>\n",
              "    </tr>\n",
              "    <tr>\n",
              "      <th>430</th>\n",
              "      <td>A group of people are doing yoga.</td>\n",
              "      <td>The people are doing yoga</td>\n",
              "      <td>1</td>\n",
              "    </tr>\n",
              "  </tbody>\n",
              "</table>\n",
              "</div>\n",
              "    <div class=\"colab-df-buttons\">\n",
              "\n",
              "  <div class=\"colab-df-container\">\n",
              "    <button class=\"colab-df-convert\" onclick=\"convertToInteractive('df-203f5db6-061b-490a-b05d-30d80c3816c5')\"\n",
              "            title=\"Convert this dataframe to an interactive table.\"\n",
              "            style=\"display:none;\">\n",
              "\n",
              "  <svg xmlns=\"http://www.w3.org/2000/svg\" height=\"24px\" viewBox=\"0 -960 960 960\">\n",
              "    <path d=\"M120-120v-720h720v720H120Zm60-500h600v-160H180v160Zm220 220h160v-160H400v160Zm0 220h160v-160H400v160ZM180-400h160v-160H180v160Zm440 0h160v-160H620v160ZM180-180h160v-160H180v160Zm440 0h160v-160H620v160Z\"/>\n",
              "  </svg>\n",
              "    </button>\n",
              "\n",
              "  <style>\n",
              "    .colab-df-container {\n",
              "      display:flex;\n",
              "      gap: 12px;\n",
              "    }\n",
              "\n",
              "    .colab-df-convert {\n",
              "      background-color: #E8F0FE;\n",
              "      border: none;\n",
              "      border-radius: 50%;\n",
              "      cursor: pointer;\n",
              "      display: none;\n",
              "      fill: #1967D2;\n",
              "      height: 32px;\n",
              "      padding: 0 0 0 0;\n",
              "      width: 32px;\n",
              "    }\n",
              "\n",
              "    .colab-df-convert:hover {\n",
              "      background-color: #E2EBFA;\n",
              "      box-shadow: 0px 1px 2px rgba(60, 64, 67, 0.3), 0px 1px 3px 1px rgba(60, 64, 67, 0.15);\n",
              "      fill: #174EA6;\n",
              "    }\n",
              "\n",
              "    .colab-df-buttons div {\n",
              "      margin-bottom: 4px;\n",
              "    }\n",
              "\n",
              "    [theme=dark] .colab-df-convert {\n",
              "      background-color: #3B4455;\n",
              "      fill: #D2E3FC;\n",
              "    }\n",
              "\n",
              "    [theme=dark] .colab-df-convert:hover {\n",
              "      background-color: #434B5C;\n",
              "      box-shadow: 0px 1px 3px 1px rgba(0, 0, 0, 0.15);\n",
              "      filter: drop-shadow(0px 1px 2px rgba(0, 0, 0, 0.3));\n",
              "      fill: #FFFFFF;\n",
              "    }\n",
              "  </style>\n",
              "\n",
              "    <script>\n",
              "      const buttonEl =\n",
              "        document.querySelector('#df-203f5db6-061b-490a-b05d-30d80c3816c5 button.colab-df-convert');\n",
              "      buttonEl.style.display =\n",
              "        google.colab.kernel.accessAllowed ? 'block' : 'none';\n",
              "\n",
              "      async function convertToInteractive(key) {\n",
              "        const element = document.querySelector('#df-203f5db6-061b-490a-b05d-30d80c3816c5');\n",
              "        const dataTable =\n",
              "          await google.colab.kernel.invokeFunction('convertToInteractive',\n",
              "                                                    [key], {});\n",
              "        if (!dataTable) return;\n",
              "\n",
              "        const docLinkHtml = 'Like what you see? Visit the ' +\n",
              "          '<a target=\"_blank\" href=https://colab.research.google.com/notebooks/data_table.ipynb>data table notebook</a>'\n",
              "          + ' to learn more about interactive tables.';\n",
              "        element.innerHTML = '';\n",
              "        dataTable['output_type'] = 'display_data';\n",
              "        await google.colab.output.renderOutput(dataTable, element);\n",
              "        const docLink = document.createElement('div');\n",
              "        docLink.innerHTML = docLinkHtml;\n",
              "        element.appendChild(docLink);\n",
              "      }\n",
              "    </script>\n",
              "  </div>\n",
              "\n",
              "\n",
              "    <div id=\"df-fd2fb8a5-571c-4630-819c-5e08fe3f36a4\">\n",
              "      <button class=\"colab-df-quickchart\" onclick=\"quickchart('df-fd2fb8a5-571c-4630-819c-5e08fe3f36a4')\"\n",
              "                title=\"Suggest charts\"\n",
              "                style=\"display:none;\">\n",
              "\n",
              "<svg xmlns=\"http://www.w3.org/2000/svg\" height=\"24px\"viewBox=\"0 0 24 24\"\n",
              "     width=\"24px\">\n",
              "    <g>\n",
              "        <path d=\"M19 3H5c-1.1 0-2 .9-2 2v14c0 1.1.9 2 2 2h14c1.1 0 2-.9 2-2V5c0-1.1-.9-2-2-2zM9 17H7v-7h2v7zm4 0h-2V7h2v10zm4 0h-2v-4h2v4z\"/>\n",
              "    </g>\n",
              "</svg>\n",
              "      </button>\n",
              "\n",
              "<style>\n",
              "  .colab-df-quickchart {\n",
              "      --bg-color: #E8F0FE;\n",
              "      --fill-color: #1967D2;\n",
              "      --hover-bg-color: #E2EBFA;\n",
              "      --hover-fill-color: #174EA6;\n",
              "      --disabled-fill-color: #AAA;\n",
              "      --disabled-bg-color: #DDD;\n",
              "  }\n",
              "\n",
              "  [theme=dark] .colab-df-quickchart {\n",
              "      --bg-color: #3B4455;\n",
              "      --fill-color: #D2E3FC;\n",
              "      --hover-bg-color: #434B5C;\n",
              "      --hover-fill-color: #FFFFFF;\n",
              "      --disabled-bg-color: #3B4455;\n",
              "      --disabled-fill-color: #666;\n",
              "  }\n",
              "\n",
              "  .colab-df-quickchart {\n",
              "    background-color: var(--bg-color);\n",
              "    border: none;\n",
              "    border-radius: 50%;\n",
              "    cursor: pointer;\n",
              "    display: none;\n",
              "    fill: var(--fill-color);\n",
              "    height: 32px;\n",
              "    padding: 0;\n",
              "    width: 32px;\n",
              "  }\n",
              "\n",
              "  .colab-df-quickchart:hover {\n",
              "    background-color: var(--hover-bg-color);\n",
              "    box-shadow: 0 1px 2px rgba(60, 64, 67, 0.3), 0 1px 3px 1px rgba(60, 64, 67, 0.15);\n",
              "    fill: var(--button-hover-fill-color);\n",
              "  }\n",
              "\n",
              "  .colab-df-quickchart-complete:disabled,\n",
              "  .colab-df-quickchart-complete:disabled:hover {\n",
              "    background-color: var(--disabled-bg-color);\n",
              "    fill: var(--disabled-fill-color);\n",
              "    box-shadow: none;\n",
              "  }\n",
              "\n",
              "  .colab-df-spinner {\n",
              "    border: 2px solid var(--fill-color);\n",
              "    border-color: transparent;\n",
              "    border-bottom-color: var(--fill-color);\n",
              "    animation:\n",
              "      spin 1s steps(1) infinite;\n",
              "  }\n",
              "\n",
              "  @keyframes spin {\n",
              "    0% {\n",
              "      border-color: transparent;\n",
              "      border-bottom-color: var(--fill-color);\n",
              "      border-left-color: var(--fill-color);\n",
              "    }\n",
              "    20% {\n",
              "      border-color: transparent;\n",
              "      border-left-color: var(--fill-color);\n",
              "      border-top-color: var(--fill-color);\n",
              "    }\n",
              "    30% {\n",
              "      border-color: transparent;\n",
              "      border-left-color: var(--fill-color);\n",
              "      border-top-color: var(--fill-color);\n",
              "      border-right-color: var(--fill-color);\n",
              "    }\n",
              "    40% {\n",
              "      border-color: transparent;\n",
              "      border-right-color: var(--fill-color);\n",
              "      border-top-color: var(--fill-color);\n",
              "    }\n",
              "    60% {\n",
              "      border-color: transparent;\n",
              "      border-right-color: var(--fill-color);\n",
              "    }\n",
              "    80% {\n",
              "      border-color: transparent;\n",
              "      border-right-color: var(--fill-color);\n",
              "      border-bottom-color: var(--fill-color);\n",
              "    }\n",
              "    90% {\n",
              "      border-color: transparent;\n",
              "      border-bottom-color: var(--fill-color);\n",
              "    }\n",
              "  }\n",
              "</style>\n",
              "\n",
              "      <script>\n",
              "        async function quickchart(key) {\n",
              "          const quickchartButtonEl =\n",
              "            document.querySelector('#' + key + ' button');\n",
              "          quickchartButtonEl.disabled = true;  // To prevent multiple clicks.\n",
              "          quickchartButtonEl.classList.add('colab-df-spinner');\n",
              "          try {\n",
              "            const charts = await google.colab.kernel.invokeFunction(\n",
              "                'suggestCharts', [key], {});\n",
              "          } catch (error) {\n",
              "            console.error('Error during call to suggestCharts:', error);\n",
              "          }\n",
              "          quickchartButtonEl.classList.remove('colab-df-spinner');\n",
              "          quickchartButtonEl.classList.add('colab-df-quickchart-complete');\n",
              "        }\n",
              "        (() => {\n",
              "          let quickchartButtonEl =\n",
              "            document.querySelector('#df-fd2fb8a5-571c-4630-819c-5e08fe3f36a4 button');\n",
              "          quickchartButtonEl.style.display =\n",
              "            google.colab.kernel.accessAllowed ? 'block' : 'none';\n",
              "        })();\n",
              "      </script>\n",
              "    </div>\n",
              "\n",
              "    </div>\n",
              "  </div>\n"
            ],
            "application/vnd.google.colaboratory.intrinsic+json": {
              "type": "dataframe",
              "summary": "{\n  \"name\": \"df\",\n  \"rows\": 5,\n  \"fields\": [\n    {\n      \"column\": \"source_txt\",\n      \"properties\": {\n        \"dtype\": \"string\",\n        \"num_unique_values\": 5,\n        \"samples\": [\n          \"A man stands on a sailboat in the water.\",\n          \"A group of people are doing yoga.\",\n          \"Athletes running in a race.\"\n        ],\n        \"semantic_type\": \"\",\n        \"description\": \"\"\n      }\n    },\n    {\n      \"column\": \"plagiarism_txt\",\n      \"properties\": {\n        \"dtype\": \"string\",\n        \"num_unique_values\": 5,\n        \"samples\": [\n          \"A man is typing on a computer.\",\n          \"The people are doing yoga\",\n          \"Humans running.\"\n        ],\n        \"semantic_type\": \"\",\n        \"description\": \"\"\n      }\n    },\n    {\n      \"column\": \"label\",\n      \"properties\": {\n        \"dtype\": \"number\",\n        \"std\": 0,\n        \"min\": 0,\n        \"max\": 1,\n        \"num_unique_values\": 2,\n        \"samples\": [\n          1,\n          0\n        ],\n        \"semantic_type\": \"\",\n        \"description\": \"\"\n      }\n    }\n  ]\n}"
            }
          },
          "metadata": {},
          "execution_count": 5
        }
      ],
      "source": [
        "df = pd.read_csv('/content/data.csv')\n",
        "df.sample(5) #random"
      ]
    },
    {
      "cell_type": "markdown",
      "metadata": {
        "id": "a-_qD519UwW2"
      },
      "source": [
        "#Shape of Data"
      ]
    },
    {
      "cell_type": "code",
      "execution_count": 6,
      "metadata": {
        "colab": {
          "base_uri": "https://localhost:8080/"
        },
        "id": "MV1Xe4cGUzjW",
        "outputId": "b512caa7-62dc-4d5f-d55c-10ee509068ad"
      },
      "outputs": [
        {
          "output_type": "execute_result",
          "data": {
            "text/plain": [
              "(367373, 3)"
            ]
          },
          "metadata": {},
          "execution_count": 6
        }
      ],
      "source": [
        "df.shape"
      ]
    },
    {
      "cell_type": "markdown",
      "metadata": {
        "id": "j7Su0uVdU4e_"
      },
      "source": [
        "#Check Mising Values"
      ]
    },
    {
      "cell_type": "code",
      "execution_count": 7,
      "metadata": {
        "colab": {
          "base_uri": "https://localhost:8080/"
        },
        "id": "zoQlRXFNU3rH",
        "outputId": "98b4febb-b155-4146-e338-cb141b00c624"
      },
      "outputs": [
        {
          "output_type": "stream",
          "name": "stdout",
          "text": [
            "Null values source_txt        0\n",
            "plagiarism_txt    4\n",
            "label             0\n",
            "dtype: int64\n",
            "==============================\n",
            "Null values after removing : source_txt        0\n",
            "plagiarism_txt    0\n",
            "label             0\n",
            "dtype: int64\n"
          ]
        }
      ],
      "source": [
        "print(\"Null values\",df.isnull().sum())\n",
        "#remove null\n",
        "df.dropna(inplace=True)\n",
        "# check for null values after removing\n",
        "print(\"==============================\")\n",
        "print(\"Null values after removing :\",df.isnull().sum())"
      ]
    },
    {
      "cell_type": "markdown",
      "metadata": {
        "id": "P8ilBdAcVMsk"
      },
      "source": [
        "#Check Duplicate"
      ]
    },
    {
      "cell_type": "code",
      "execution_count": 8,
      "metadata": {
        "colab": {
          "base_uri": "https://localhost:8080/"
        },
        "id": "1iBKUy8lVQ7G",
        "outputId": "679a2955-d8d2-44b0-9c8f-807a7a196a37"
      },
      "outputs": [
        {
          "output_type": "stream",
          "name": "stdout",
          "text": [
            "Duplicates 454\n",
            "==============================\n",
            "Duplicates after removing : 0\n"
          ]
        }
      ],
      "source": [
        "print(\"Duplicates\",df.duplicated().sum())\n",
        "# remove duplicates\n",
        "df.drop_duplicates(inplace=True)\n",
        "# check for duplicates after removing\n",
        "print(\"==============================\")\n",
        "print(\"Duplicates after removing :\",df.duplicated().sum())"
      ]
    },
    {
      "cell_type": "markdown",
      "metadata": {
        "id": "Lewkj_gLVYON"
      },
      "source": [
        "#Check Values Count"
      ]
    },
    {
      "cell_type": "code",
      "execution_count": 9,
      "metadata": {
        "colab": {
          "base_uri": "https://localhost:8080/",
          "height": 497
        },
        "id": "w71ybLKJVZ_F",
        "outputId": "d1b5033e-29c0-4c34-e0a1-8ee2e720ea44"
      },
      "outputs": [
        {
          "output_type": "stream",
          "name": "stdout",
          "text": [
            "label\n",
            "0    183874\n",
            "1    183041\n",
            "Name: count, dtype: int64\n"
          ]
        },
        {
          "output_type": "display_data",
          "data": {
            "text/plain": [
              "<Figure size 640x480 with 1 Axes>"
            ],
            "image/png": "[encoded data removed]"
          },
          "metadata": {}
        }
      ],
      "source": [
        "# check value counts  -> Ktra dataset cân bằng\n",
        "print(df['label'].value_counts())\n",
        "\n",
        "# Pie Chart\n",
        "df['label'].value_counts().plot.pie(autopct=\"%1.1f%%\", labels=['Not Plagiarized', 'Plagiarized'])\n",
        "plt.title('Label Distribution')\n",
        "plt.show()\n",
        "\n"
      ]
    },
    {
      "cell_type": "markdown",
      "metadata": {
        "id": "7y8c_rqxMBrx"
      },
      "source": [
        "#Check Text Length"
      ]
    },
    {
      "cell_type": "code",
      "execution_count": 10,
      "metadata": {
        "id": "1TrWIOtvMBrx",
        "outputId": "322a21cf-918a-4ae0-ec5f-2136b53bd646",
        "colab": {
          "base_uri": "https://localhost:8080/",
          "height": 487
        }
      },
      "outputs": [
        {
          "output_type": "display_data",
          "data": {
            "text/plain": [
              "<Figure size 1000x500 with 1 Axes>"
            ],
            "image/png": "[encoded data removed]"
          },
          "metadata": {}
        }
      ],
      "source": [
        "df['source_len'] = df['source_txt'].apply(lambda x:len(x.split()))\n",
        "df['plagiarism_len'] = df['plagiarism_txt'].apply(lambda x:len(x.split())) #Cắt ra khoảng trắng và đếm\n",
        "\n",
        "\n",
        "#Vẽ biểu đồ tần suất phân bố dữ liệu (Plot histograms)\n",
        "plt.figure(figsize=(10,5)) #1 ô có kích thước\n",
        "sns.histplot(df['source_len'], color='blue' , label='Source Text' , kde=True) #KDE đường cong mật độ\n",
        "sns.histplot(df['plagiarism_len'] , color='red' , label = 'Plagiarism Text', kde =True)\n",
        "\n",
        "\n",
        "#Tính mean\n",
        "avg_source_len = df['source_len'].mean()\n",
        "avg_plagiarism_len = df['plagiarism_len'].mean()\n",
        "\n",
        "\n",
        "#Thêm avg và plot\n",
        "plt.axvline(avg_source_len, color='blue', linestyle='dashed', linewidth=2, label=f'Avg Source ({avg_source_len:.2f})')\n",
        "plt.axvline(avg_plagiarism_len, color='red', linestyle='dashed', linewidth=2, label=f'Avg Plagiarism ({avg_plagiarism_len:.2f})')\n",
        "\n",
        "\n",
        "plt.title('Text Length Distribution')\n",
        "plt.xlabel('Word Count')\n",
        "plt.ylabel('Frequency')\n",
        "plt.legend() #plot note\n",
        "plt.show()\n"
      ]
    },
    {
      "cell_type": "markdown",
      "metadata": {
        "id": "dy1pd8UIMBrx"
      },
      "source": [
        "#Kết luận\n",
        "\n",
        "\n",
        "- Biểu đồ phân bố độ dài văn bản cho thấy sự khác biệt rõ rệt giữa văn bản gốc (source texts) và văn bản đạo văn (plagiarized texts):\n",
        "\n",
        "+ Văn bản gốc (Source texts) có độ dài trung bình khoảng 12.85 từ và có phân bố rộng hơn(kde rộng hơn từ 0 - gần 80), trải dài từ những đoạn ngắn đến các đoạn dài hơn. Điều này phản ánh sự đa dạng về nội dung và ngữ cảnh của các văn bản gốc.\n",
        "\n",
        "+ Văn bản đạo văn (Plagiarized texts) có độ dài trung bình thấp hơn, chỉ khoảng 7.00 từ, và tập trung chủ yếu ở các đoạn văn ngắn. Phân bố của chúng hẹp hơn(kde từ 0 đến gần 60) và phần lớn tập trung vào khoảng độ dài ngắn.\n",
        "\n",
        "Ý nghĩa:\n",
        "Điều này cho thấy hành vi đạo văn trong bộ dữ liệu chủ yếu diễn ra trên các đoạn văn ngắn, thay vì sao chép toàn bộ hoặc những đoạn dài. Người thực hiện hành vi đạo văn có xu hướng lấy các phần nhỏ của văn bản gốc để tái sử dụng\n",
        "\n"
      ]
    },
    {
      "cell_type": "markdown",
      "metadata": {
        "id": "aR1EZ89FMBrx"
      },
      "source": [
        "#WordCloud"
      ]
    },
    {
      "cell_type": "code",
      "execution_count": null,
      "metadata": {
        "id": "Q8CprwzjMBrx"
      },
      "outputs": [],
      "source": [
        "#Tạo wordcloud -> từ càng xh nhiều càng to\n",
        "\n",
        "source_text = \" \".join(df['source_txt'].tolist())\n",
        "wordcloud_source = WordCloud(width=800, height=400, background_color='white').generate(source_text)\n",
        "\n",
        "plag_text = \" \".join(df['plagiarism_txt'].tolist())\n",
        "wordcloud_plag = WordCloud(width=800, height=400, background_color='white').generate(plag_text)\n",
        "\n",
        "\n",
        "#Hiển thị word Cloud\n",
        "plt.figure(figsize=(15, 7))\n",
        "\n",
        "# Source Text Word Cloud\n",
        "plt.subplot(1, 2, 1) #1 hàng 2 cột , và nó là cột 1\n",
        "plt.imshow(wordcloud_source, interpolation='bilinear') #làm mượt khi thu phóng\n",
        "plt.title('Source Text Word Cloud')\n",
        "plt.axis('off')#tắt xy\n",
        "\n",
        "\n",
        "# Plagiarism Text Word Cloud\n",
        "plt.subplot(1, 2, 2)#1 hàng 2 cột , và nó là cột 2\n",
        "plt.imshow(wordcloud_plag, interpolation='bilinear')\n",
        "plt.title('Plagiarism Text Word Cloud')\n",
        "plt.axis('off')"
      ]
    },
    {
      "cell_type": "markdown",
      "metadata": {
        "id": "Gw06I3mJMBrx"
      },
      "source": [
        "Data Preprocessing (Tiền xử lý dữ liệu)"
      ]
    },
    {
      "cell_type": "code",
      "execution_count": null,
      "metadata": {
        "id": "KkoqFcJuMBrx"
      },
      "outputs": [],
      "source": [
        "#NLTK Downloads\n",
        "\n",
        "nltk.download('stopwords')\n",
        "\n",
        "\n",
        "#Load SpaCy\n",
        "\n",
        "nlp = spacy.load('en_core_web_sm')  #Có thể Part of speech tagging vầ NER (nhận diện thực thể qua tên)\n",
        "\n",
        "\n",
        "def to_lowercase(text):\n",
        "    return text.lower()\n",
        "\n",
        "#Xóa dấu câu\n",
        "def remove_punctuation(text):\n",
        "    return re.sub(r'[^\\w\\s]', '', text) #sub như substitute (thay thế) thay '' cho những dấu câu\n",
        "#Xóa kí tự đặc biệt và số\n",
        "\n",
        "def remove_special_characters(text):\n",
        "    return re.sub(r'[^A-Za-z\\s]', '', text)\n",
        "\n",
        "\n",
        "#Xóa HTML tags\n",
        "def remove_html_tags(text):\n",
        "    return re.sub(r'<.*?>', '', text)\n",
        "\n",
        "#Xóa emojis\n",
        "def remove_emojis(text):\n",
        "    emoji_pattern = re.compile(\"[\"\n",
        "                               u\"\\U0001F600-\\U0001F64F\"\n",
        "                               u\"\\U0001F300-\\U0001F5FF\"\n",
        "                               u\"\\U0001F680-\\U0001F6FF\"\n",
        "                               u\"\\U0001F700-\\U0001F77F\"\n",
        "                               u\"\\U0001F780-\\U0001F7FF\"\n",
        "                               u\"\\U0001F800-\\U0001F8FF\"\n",
        "                               u\"\\U0001F900-\\U0001F9FF\"\n",
        "                               u\"\\U0001FA00-\\U0001FA6F\"\n",
        "                               u\"\\U0001FA70-\\U0001FAFF\"\n",
        "                               u\"\\U00002702-\\U000027B0\"\n",
        "                               u\"\\U000024C2-\\U0001F251\"\n",
        "                               \"]+\", flags=re.UNICODE)\n",
        "    return emoji_pattern.sub(r'', text)\n",
        "\n",
        "#Xóa urls\n",
        "\n",
        "def remove_urls(text):\n",
        "    return re.sub(r'http\\S+|www\\S+|https\\S+', '', text, flags=re.MULTILINE)\n",
        "#Xóa khoảng trắng thừa\n",
        "def remove_extra_spaces(text):\n",
        "    return re.sub(r'\\s+', ' ', text).strip()\n",
        "\n",
        "#Từ can't -> can not\n",
        "def expand_contractions(text):\n",
        "    return contractions.fix(text)\n",
        "\n",
        "#Xóa stopwords\n",
        "stop_words = set(stopwords.words('english'))\n",
        "def remove_stopwords(text):\n",
        "    tokens = text.split()\n",
        "    return \" \".join([word for word in tokens if word not in stop_words])\n",
        "\n",
        "#Tokenization and Lemmatization (tách từ và tìm từ gốc) I'm running -> \"I\" , \"am\" \"run\"\n",
        "def spacy_tokenization_lemmatization(text):\n",
        "    doc= nlp(text) #spaCy\n",
        "    return [token.lemma_ for token in doc]\n",
        "\n",
        "#Xóa 1 từ cụ thể nếu muốn\n",
        "\n",
        "def remove_specific_words(text,words_to_remove):\n",
        "    words = text.split()\n",
        "    filtered_words = [word for word in words if word not in words_to_remove]\n",
        "    return \" \".join(filtered_words)\n",
        "\n",
        "#\n",
        "def full_pipeline(text):\n",
        "    text = to_lowercase(text)\n",
        "    text = expand_contractions(text)\n",
        "    text = remove_punctuation(text)\n",
        "    text = remove_special_characters(text)\n",
        "    text = remove_html_tags(text)\n",
        "    text = remove_emojis(text)\n",
        "    text = remove_urls(text)\n",
        "    text = remove_extra_spaces(text)\n",
        "    text = remove_stopwords(text)\n",
        "    tokens = spacy_tokenization_lemmatization(text)\n",
        "    text = \" \".join(tokens)\n",
        "    text = remove_specific_words(text, ['chat'])  # Remove 'chat' specifically\n",
        "    return text\n",
        "\n",
        "\n",
        "\n",
        "\n"
      ]
    }
  ],
  "metadata": {
    "colab": {
      "provenance": [],
      "include_colab_link": true
    },
    "kernelspec": {
      "display_name": "Python 3",
      "name": "python3"
    },
    "language_info": {
      "codemirror_mode": {
        "name": "ipython",
        "version": 3
      },
      "file_extension": ".py",
      "mimetype": "text/x-python",
      "name": "python",
      "nbconvert_exporter": "python",
      "pygments_lexer": "ipython3",
      "version": "3.13.4"
    },
    "widgets": {
      "application/vnd.jupyter.widget-state+json": {
        "95508e1a879f4f9d8f2f2ca3a8b4366f": {
          "model_module": "@jupyter-widgets/controls",
          "model_name": "HBoxModel",
          "model_module_version": "1.5.0",
          "state": {
            "_dom_classes": [],
            "_model_module": "@jupyter-widgets/controls",
            "_model_module_version": "1.5.0",
            "_model_name": "HBoxModel",
            "_view_count": null,
            "_view_module": "@jupyter-widgets/controls",
            "_view_module_version": "1.5.0",
            "_view_name": "HBoxView",
            "box_style": "",
            "children": [
              "IPY_MODEL_082715fae0fd4c76b6953120bb29ce27",
              "IPY_MODEL_4e65f0e196a94ca6bbe78c7f875d9bd1",
              "IPY_MODEL_e0dfd93e0213435c9294b17b7035b263"
            ],
            "layout": "IPY_MODEL_116320fac33f480c8bc1d57e59185484"
          }
        },
        "082715fae0fd4c76b6953120bb29ce27": {
          "model_module": "@jupyter-widgets/controls",
          "model_name": "HTMLModel",
          "model_module_version": "1.5.0",
          "state": {
            "_dom_classes": [],
            "_model_module": "@jupyter-widgets/controls",
            "_model_module_version": "1.5.0",
            "_model_name": "HTMLModel",
            "_view_count": null,
            "_view_module": "@jupyter-widgets/controls",
            "_view_module_version": "1.5.0",
            "_view_name": "HTMLView",
            "description": "",
            "description_tooltip": null,
            "layout": "IPY_MODEL_bcbd84eb7ae94ba2ba0f9e054738ba2d",
            "placeholder": "​",
            "style": "IPY_MODEL_788dabfcb7034f54b1a9bacb724d77e6",
            "value": "100%"
          }
        },
        "4e65f0e196a94ca6bbe78c7f875d9bd1": {
          "model_module": "@jupyter-widgets/controls",
          "model_name": "FloatProgressModel",
          "model_module_version": "1.5.0",
          "state": {
            "_dom_classes": [],
            "_model_module": "@jupyter-widgets/controls",
            "_model_module_version": "1.5.0",
            "_model_name": "FloatProgressModel",
            "_view_count": null,
            "_view_module": "@jupyter-widgets/controls",
            "_view_module_version": "1.5.0",
            "_view_name": "ProgressView",
            "bar_style": "success",
            "description": "",
            "description_tooltip": null,
            "layout": "IPY_MODEL_5f0707f329d04a0da90124fcb0bb24ab",
            "max": 367373,
            "min": 0,
            "orientation": "horizontal",
            "style": "IPY_MODEL_f1a3af873b344615a436c190214f3d81",
            "value": 367373
          }
        },
        "e0dfd93e0213435c9294b17b7035b263": {
          "model_module": "@jupyter-widgets/controls",
          "model_name": "HTMLModel",
          "model_module_version": "1.5.0",
          "state": {
            "_dom_classes": [],
            "_model_module": "@jupyter-widgets/controls",
            "_model_module_version": "1.5.0",
            "_model_name": "HTMLModel",
            "_view_count": null,
            "_view_module": "@jupyter-widgets/controls",
            "_view_module_version": "1.5.0",
            "_view_name": "HTMLView",
            "description": "",
            "description_tooltip": null,
            "layout": "IPY_MODEL_ebe65da7f1af4f4f988d2b8ac3e6daf4",
            "placeholder": "​",
            "style": "IPY_MODEL_a65c09b870714a7fbe7c2d10aaca1ec4",
            "value": " 367373/367373 [00:02&lt;00:00, 151534.78it/s]"
          }
        },
        "116320fac33f480c8bc1d57e59185484": {
          "model_module": "@jupyter-widgets/base",
          "model_name": "LayoutModel",
          "model_module_version": "1.2.0",
          "state": {
            "_model_module": "@jupyter-widgets/base",
            "_model_module_version": "1.2.0",
            "_model_name": "LayoutModel",
            "_view_count": null,
            "_view_module": "@jupyter-widgets/base",
            "_view_module_version": "1.2.0",
            "_view_name": "LayoutView",
            "align_content": null,
            "align_items": null,
            "align_self": null,
            "border": null,
            "bottom": null,
            "display": null,
            "flex": null,
            "flex_flow": null,
            "grid_area": null,
            "grid_auto_columns": null,
            "grid_auto_flow": null,
            "grid_auto_rows": null,
            "grid_column": null,
            "grid_gap": null,
            "grid_row": null,
            "grid_template_areas": null,
            "grid_template_columns": null,
            "grid_template_rows": null,
            "height": null,
            "justify_content": null,
            "justify_items": null,
            "left": null,
            "margin": null,
            "max_height": null,
            "max_width": null,
            "min_height": null,
            "min_width": null,
            "object_fit": null,
            "object_position": null,
            "order": null,
            "overflow": null,
            "overflow_x": null,
            "overflow_y": null,
            "padding": null,
            "right": null,
            "top": null,
            "visibility": null,
            "width": null
          }
        },
        "bcbd84eb7ae94ba2ba0f9e054738ba2d": {
          "model_module": "@jupyter-widgets/base",
          "model_name": "LayoutModel",
          "model_module_version": "1.2.0",
          "state": {
            "_model_module": "@jupyter-widgets/base",
            "_model_module_version": "1.2.0",
            "_model_name": "LayoutModel",
            "_view_count": null,
            "_view_module": "@jupyter-widgets/base",
            "_view_module_version": "1.2.0",
            "_view_name": "LayoutView",
            "align_content": null,
            "align_items": null,
            "align_self": null,
            "border": null,
            "bottom": null,
            "display": null,
            "flex": null,
            "flex_flow": null,
            "grid_area": null,
            "grid_auto_columns": null,
            "grid_auto_flow": null,
            "grid_auto_rows": null,
            "grid_column": null,
            "grid_gap": null,
            "grid_row": null,
            "grid_template_areas": null,
            "grid_template_columns": null,
            "grid_template_rows": null,
            "height": null,
            "justify_content": null,
            "justify_items": null,
            "left": null,
            "margin": null,
            "max_height": null,
            "max_width": null,
            "min_height": null,
            "min_width": null,
            "object_fit": null,
            "object_position": null,
            "order": null,
            "overflow": null,
            "overflow_x": null,
            "overflow_y": null,
            "padding": null,
            "right": null,
            "top": null,
            "visibility": null,
            "width": null
          }
        },
        "788dabfcb7034f54b1a9bacb724d77e6": {
          "model_module": "@jupyter-widgets/controls",
          "model_name": "DescriptionStyleModel",
          "model_module_version": "1.5.0",
          "state": {
            "_model_module": "@jupyter-widgets/controls",
            "_model_module_version": "1.5.0",
            "_model_name": "DescriptionStyleModel",
            "_view_count": null,
            "_view_module": "@jupyter-widgets/base",
            "_view_module_version": "1.2.0",
            "_view_name": "StyleView",
            "description_width": ""
          }
        },
        "5f0707f329d04a0da90124fcb0bb24ab": {
          "model_module": "@jupyter-widgets/base",
          "model_name": "LayoutModel",
          "model_module_version": "1.2.0",
          "state": {
            "_model_module": "@jupyter-widgets/base",
            "_model_module_version": "1.2.0",
            "_model_name": "LayoutModel",
            "_view_count": null,
            "_view_module": "@jupyter-widgets/base",
            "_view_module_version": "1.2.0",
            "_view_name": "LayoutView",
            "align_content": null,
            "align_items": null,
            "align_self": null,
            "border": null,
            "bottom": null,
            "display": null,
            "flex": null,
            "flex_flow": null,
            "grid_area": null,
            "grid_auto_columns": null,
            "grid_auto_flow": null,
            "grid_auto_rows": null,
            "grid_column": null,
            "grid_gap": null,
            "grid_row": null,
            "grid_template_areas": null,
            "grid_template_columns": null,
            "grid_template_rows": null,
            "height": null,
            "justify_content": null,
            "justify_items": null,
            "left": null,
            "margin": null,
            "max_height": null,
            "max_width": null,
            "min_height": null,
            "min_width": null,
            "object_fit": null,
            "object_position": null,
            "order": null,
            "overflow": null,
            "overflow_x": null,
            "overflow_y": null,
            "padding": null,
            "right": null,
            "top": null,
            "visibility": null,
            "width": null
          }
        },
        "f1a3af873b344615a436c190214f3d81": {
          "model_module": "@jupyter-widgets/controls",
          "model_name": "ProgressStyleModel",
          "model_module_version": "1.5.0",
          "state": {
            "_model_module": "@jupyter-widgets/controls",
            "_model_module_version": "1.5.0",
            "_model_name": "ProgressStyleModel",
            "_view_count": null,
            "_view_module": "@jupyter-widgets/base",
            "_view_module_version": "1.2.0",
            "_view_name": "StyleView",
            "bar_color": null,
            "description_width": ""
          }
        },
        "ebe65da7f1af4f4f988d2b8ac3e6daf4": {
          "model_module": "@jupyter-widgets/base",
          "model_name": "LayoutModel",
          "model_module_version": "1.2.0",
          "state": {
            "_model_module": "@jupyter-widgets/base",
            "_model_module_version": "1.2.0",
            "_model_name": "LayoutModel",
            "_view_count": null,
            "_view_module": "@jupyter-widgets/base",
            "_view_module_version": "1.2.0",
            "_view_name": "LayoutView",
            "align_content": null,
            "align_items": null,
            "align_self": null,
            "border": null,
            "bottom": null,
            "display": null,
            "flex": null,
            "flex_flow": null,
            "grid_area": null,
            "grid_auto_columns": null,
            "grid_auto_flow": null,
            "grid_auto_rows": null,
            "grid_column": null,
            "grid_gap": null,
            "grid_row": null,
            "grid_template_areas": null,
            "grid_template_columns": null,
            "grid_template_rows": null,
            "height": null,
            "justify_content": null,
            "justify_items": null,
            "left": null,
            "margin": null,
            "max_height": null,
            "max_width": null,
            "min_height": null,
            "min_width": null,
            "object_fit": null,
            "object_position": null,
            "order": null,
            "overflow": null,
            "overflow_x": null,
            "overflow_y": null,
            "padding": null,
            "right": null,
            "top": null,
            "visibility": null,
            "width": null
          }
        },
        "a65c09b870714a7fbe7c2d10aaca1ec4": {
          "model_module": "@jupyter-widgets/controls",
          "model_name": "DescriptionStyleModel",
          "model_module_version": "1.5.0",
          "state": {
            "_model_module": "@jupyter-widgets/controls",
            "_model_module_version": "1.5.0",
            "_model_name": "DescriptionStyleModel",
            "_view_count": null,
            "_view_module": "@jupyter-widgets/base",
            "_view_module_version": "1.2.0",
            "_view_name": "StyleView",
            "description_width": ""
          }
        }
      }
    }
  },
  "nbformat": 4,
  "nbformat_minor": 0
}